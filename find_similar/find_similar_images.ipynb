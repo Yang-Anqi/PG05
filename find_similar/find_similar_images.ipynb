{
 "cells": [
  {
   "cell_type": "code",
   "execution_count": 5,
   "metadata": {},
   "outputs": [],
   "source": [
    "import cv2\n",
    "import numpy as np\n",
    "from PIL import Image\n",
    "import os"
   ]
  },
  {
   "cell_type": "code",
   "execution_count": null,
   "metadata": {},
   "outputs": [],
   "source": [
    "# Check if two images are similar using ORB feature matching\n",
    "def are_images_similar(img1_path, img2_path):\n",
    "    img1 = cv2.imread(img1_path, cv2.IMREAD_GRAYSCALE)\n",
    "    img2 = cv2.imread(img2_path, cv2.IMREAD_GRAYSCALE)\n",
    "    \n",
    "    if img1 is None or img2 is None:\n",
    "        print(\"Error: One or both images could not be loaded.\")\n",
    "        return False, []\n",
    "    orb = cv2.ORB_create()\n",
    "    kp1, des1 = orb.detectAndCompute(img1, None)\n",
    "    kp2, des2 = orb.detectAndCompute(img2, None)\n",
    "    if des1 is None or des2 is None:\n",
    "        return False, []\n",
    "\n",
    "    bf = cv2.BFMatcher(cv2.NORM_HAMMING, crossCheck=True)\n",
    "    matches = bf.match(des1, des2)\n",
    "\n",
    "    matches = sorted(matches, key=lambda x: x.distance)\n",
    "\n",
    "    threshold = 25\n",
    "    similar_matches = [m for m in matches if m.distance < threshold]\n",
    "\n",
    "    if len(similar_matches) > 10:\n",
    "        return True, similar_matches\n",
    "    else:\n",
    "        return False, similar_matches\n",
    "\n",
    "# Check the whole directory for similar images\n",
    "def find_similar_images(directory):\n",
    "    image_files = [f for f in os.listdir(directory) if f.endswith('.jpg') or f.endswith('.png')]\n",
    "\n",
    "    similar_groups = []\n",
    "    checked_images = set()\n",
    "    \n",
    "    for i in range(len(image_files)):\n",
    "        print(f\"Checking image {i + 1}/{len(image_files)}\")\n",
    "        if image_files[i] in checked_images:\n",
    "            continue\n",
    "        current_group = [image_files[i]]\n",
    "        for j in range(i + 1, len(image_files)):\n",
    "            if image_files[j] in checked_images:\n",
    "                continue\n",
    "            img1_path = os.path.join(directory, image_files[i])\n",
    "            img2_path = os.path.join(directory, image_files[j])\n",
    "            result, _ = are_images_similar(img1_path, img2_path)\n",
    "            if result:\n",
    "                current_group.append(image_files[j])\n",
    "                checked_images.add(image_files[j])\n",
    "                print(f\"Similar images: {image_files[i]} and {image_files[j]}\")\n",
    "                \n",
    "        if len(current_group) > 1:\n",
    "            similar_groups.append(current_group)\n",
    "        checked_images.add(image_files[i])\n",
    "        \n",
    "    return similar_groups\n",
    "\n",
    "def get_image_size(image_name):\n",
    "    with Image.open(image_name) as img:\n",
    "        return img.size[0] * img.size[1]"
   ]
  },
  {
   "cell_type": "code",
   "execution_count": null,
   "metadata": {},
   "outputs": [],
   "source": [
    "#  Finding similarities will output similar_images: a list in the format [[fig1, fig2, ...], [fig3, fig4, ...], ...],\n",
    "#  where each sublist contains similar images.\n",
    "\n",
    "directory = 'your-imgages-dir' # e.g. '/home/user/dataset/class1','/home/user/dataset/class2',...\n",
    "similar_images = find_similar_images(directory) \n",
    "print(\"Similar images groups:\", similar_images)\n",
    "\n",
    "# Save the similar images groups to a text file\n",
    "output_file = \"your-output-file.txt\"  # e.g. 'similar_images.txt'   \n",
    "with open(output_file, \"w\", encoding=\"utf-8\") as f:\n",
    "    for group in similar_images:\n",
    "        f.write(\", \".join(group) + \"\\n\")\n",
    "\n",
    "print(f\"Similar images groups have been saved to {output_file}\")"
   ]
  },
  {
   "cell_type": "code",
   "execution_count": null,
   "metadata": {},
   "outputs": [],
   "source": [
    "# Read the similar images list, keep only the one with the largest pixel product\n",
    "\n",
    "image_directory = r\"your-imgages-dir\"  # e.g. '/home/user/dataset/class1','/home/user/dataset/class2',...   \n",
    "images = [[os.path.join(image_directory, image) for image in image_list] for image_list in \n",
    "          similar_images]\n",
    "\n",
    "max_images = []\n",
    "for image_list in images:\n",
    "    max_image = max(image_list, key=get_image_size)\n",
    "    max_images.append(max_image)\n",
    "\n",
    "for image_list in images:\n",
    "    for image in image_list:\n",
    "        if image not in max_images:\n",
    "            os.remove(image)\n"
   ]
  }
 ],
 "metadata": {
  "kernelspec": {
   "display_name": "ST5188",
   "language": "python",
   "name": "python3"
  },
  "language_info": {
   "codemirror_mode": {
    "name": "ipython",
    "version": 3
   },
   "file_extension": ".py",
   "mimetype": "text/x-python",
   "name": "python",
   "nbconvert_exporter": "python",
   "pygments_lexer": "ipython3",
   "version": "3.9.21"
  }
 },
 "nbformat": 4,
 "nbformat_minor": 2
}
